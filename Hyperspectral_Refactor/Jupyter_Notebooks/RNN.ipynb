{
 "cells": [
  {
   "cell_type": "code",
   "execution_count": 1,
   "metadata": {},
   "outputs": [],
   "source": [
    "import pickle \n",
    "import numpy as np\n",
    "import matplotlib.pyplot as plt\n",
    "import random\n",
    "import time\n",
    "import math\n",
    "\n",
    "import torch\n",
    "import torch.nn as nn\n",
    "from torch import optim\n",
    "import torch.nn.functional as F"
   ]
  },
  {
   "cell_type": "markdown",
   "metadata": {},
   "source": [
    "# Data Preprocessing"
   ]
  },
  {
   "cell_type": "code",
   "execution_count": 6,
   "metadata": {},
   "outputs": [],
   "source": [
    "def preprocess(data_file, calc_features=False, baseline=None):\n",
    "    produce_spectra = pickle.load(open(data_file, \"rb\"), encoding='latin1')\n",
    "\n",
    "    reflectances = np.array([item[:-1] for item in produce_spectra])\n",
    "    labels = np.array([int(item[-1]) for item in produce_spectra])\n",
    "    \n",
    "    baseline = baseline\n",
    "\n",
    "    if calc_features:\n",
    "        feature_vectors = []\n",
    "        for curve in reflectances:\n",
    "            div = utils.spectral_info_divergence(baseline, curve)\n",
    "            corr = utils.spectral_correlation(baseline, curve)\n",
    "            dist = utils.euclidean_distance(baseline, curve)\n",
    "            angle = utils.spectral_angle(baseline, curve)\n",
    "            feature_vectors.append([div,corr,dist,angle])\n",
    "\n",
    "        return {'feature': np.vstack(feature_vectors), \"label\": labels}\n",
    "    else:\n",
    "        return {'feature': np.vstack(reflectances), \"label\": labels}"
   ]
  },
  {
   "cell_type": "code",
   "execution_count": 8,
   "metadata": {},
   "outputs": [],
   "source": [
    "data = preprocess(\"../Formatted_Data/banana.p\")"
   ]
  },
  {
   "cell_type": "code",
   "execution_count": 9,
   "metadata": {},
   "outputs": [],
   "source": [
    "labels = data[\"label\"]\n",
    "features = data[\"feature\"]"
   ]
  },
  {
   "cell_type": "code",
   "execution_count": 10,
   "metadata": {},
   "outputs": [],
   "source": [
    "def partition(data, labels, features):\n",
    "    data_by_day = {1: [], 2: [], 3: [], 4: [], 5: [], 6: [], 7: []}\n",
    "    for i in range(len(labels)):\n",
    "        if labels[i] < 8:\n",
    "            data_by_day[labels[i]].append((features[i], labels[i]))\n",
    "        \n",
    "    return data_by_day"
   ]
  },
  {
   "cell_type": "code",
   "execution_count": 24,
   "metadata": {},
   "outputs": [],
   "source": [
    "def get_batch(data, seq_length=1, batch_size=25):\n",
    "    if seq_length == 1:\n",
    "        # get data from day\n",
    "        idx = np.random.choice(np.arange(7)+1, size=batch_size)\n",
    "        \n",
    "        # select a random sample from the day\n",
    "        x_train = []\n",
    "        y_train = []\n",
    "        for i in idx:\n",
    "            data_for_day = data[i]\n",
    "            selection = random.choice(data_for_day)\n",
    "            \n",
    "            # append the features\n",
    "            x_train.append(selection[0])\n",
    "            \n",
    "            # append the labels\n",
    "            y_train.append(7 - selection[1]) # want days remaining to 7\n",
    "            \n",
    "        x_train = np.vstack(x_train).reshape(seq_length, batch_size, 290)\n",
    "        y_train = np.array(y_train).reshape(len(y_train), 1)\n",
    "            \n",
    "        return (torch.FloatTensor(x_train), torch.FloatTensor(y_train))\n",
    "    else:\n",
    "        x_train = []\n",
    "        y_train = []\n",
    "        for i in range(batch_size):\n",
    "            sequence = []\n",
    "            label = 0\n",
    "            \n",
    "            # want to choose a random starting index that is 7 - seq_length max\n",
    "            start = np.random.choice(np.arange(7 - seq_length)+1) # adding +1 so index starts at 1 not 0\n",
    "            for j in range(start, start+seq_length):\n",
    "                data_for_day = data[j]\n",
    "                selection = random.choice(data_for_day)\n",
    "                \n",
    "                # append the features\n",
    "                sequence.append(selection[0])\n",
    "                \n",
    "                # update the label (the final value will be retained)\n",
    "                label = 7 - selection[1]\n",
    "                \n",
    "            x_train.append(sequence)\n",
    "            y_train.append(label)\n",
    "        \n",
    "        x_train = np.reshape(x_train, (seq_length, batch_size, 290))\n",
    "        y_train = np.array(y_train).reshape(len(y_train), 1)\n",
    "        return (torch.FloatTensor(x_train), torch.FloatTensor(y_train))\n",
    "                \n",
    "                \n",
    "                \n",
    "                \n",
    "    "
   ]
  },
  {
   "cell_type": "markdown",
   "metadata": {},
   "source": [
    "# Define the network"
   ]
  },
  {
   "cell_type": "code",
   "execution_count": 12,
   "metadata": {},
   "outputs": [],
   "source": [
    "class RNN(nn.Module):\n",
    "    def __init__(self, input_size, hidden_size):\n",
    "        super (RNN, self).__init__()\n",
    "        \n",
    "        self.input_size = input_size\n",
    "        self.hidden_size = hidden_size\n",
    "        self.lstm = nn.LSTM(input_size, hidden_size, bidirectional=False)\n",
    "        self.linear = nn.Linear(hidden_size, 1)\n",
    "        \n",
    "    def forward(self, input, hidden=None):\n",
    "        output = F.relu(input)\n",
    "        output, hidden = self.lstm(output, hidden)\n",
    "        output = self.linear(output[-1, :, :])\n",
    "        return output"
   ]
  },
  {
   "cell_type": "markdown",
   "metadata": {},
   "source": [
    "### test a batch"
   ]
  },
  {
   "cell_type": "code",
   "execution_count": 14,
   "metadata": {},
   "outputs": [],
   "source": [
    "train_data = partition(data, labels, features)"
   ]
  },
  {
   "cell_type": "code",
   "execution_count": 31,
   "metadata": {},
   "outputs": [],
   "source": [
    "sample = get_batch(train_data, seq_length=2)"
   ]
  },
  {
   "cell_type": "code",
   "execution_count": 32,
   "metadata": {},
   "outputs": [
    {
     "name": "stdout",
     "output_type": "stream",
     "text": [
      "torch.Size([2, 25, 290])\n"
     ]
    }
   ],
   "source": [
    "print(sample[0].shape)"
   ]
  },
  {
   "cell_type": "code",
   "execution_count": 28,
   "metadata": {},
   "outputs": [],
   "source": [
    "ex_rnn = RNN(290, 100)"
   ]
  },
  {
   "cell_type": "code",
   "execution_count": 29,
   "metadata": {},
   "outputs": [],
   "source": [
    "output = ex_rnn(sample[0])"
   ]
  },
  {
   "cell_type": "code",
   "execution_count": 30,
   "metadata": {},
   "outputs": [
    {
     "name": "stdout",
     "output_type": "stream",
     "text": [
      "torch.Size([25, 1])\n"
     ]
    }
   ],
   "source": [
    "print(output.size())"
   ]
  },
  {
   "cell_type": "markdown",
   "metadata": {},
   "source": [
    "# Create training func"
   ]
  },
  {
   "cell_type": "code",
   "execution_count": 34,
   "metadata": {},
   "outputs": [],
   "source": [
    "def asMinutes(s):\n",
    "    m = math.floor(s / 60)\n",
    "    s -= m * 60\n",
    "    return '%dm %ds' % (m, s)\n",
    "\n",
    "\n",
    "def timeSince(since, percent):\n",
    "    now = time.time()\n",
    "    s = now - since\n",
    "    es = s / (percent)\n",
    "    rs = es - s\n",
    "    return '%s (- %s)' % (asMinutes(s), asMinutes(rs))"
   ]
  },
  {
   "cell_type": "code",
   "execution_count": 35,
   "metadata": {},
   "outputs": [],
   "source": [
    "def train(data, net, optimizer, criterion, n_iters, print_every=1000):\n",
    "    start = time.time()\n",
    "    plot_losses = []\n",
    "    seq_lengths = np.arange(6) + 1\n",
    "    \n",
    "    loss_total = 0\n",
    "    for i in range(1, n_iters+1):\n",
    "        sample, label = get_batch(data, seq_length=np.random.choice(seq_lengths))\n",
    "        \n",
    "        # zero parameter gradients\n",
    "        optimizer.zero_grad()\n",
    "        \n",
    "        output = net(sample)\n",
    "        loss = criterion(output, label)\n",
    "        loss.backward()\n",
    "        optimizer.step()\n",
    "        loss_total += loss.item()\n",
    "        plot_losses.append(loss.item())\n",
    "        \n",
    "        if i % print_every == 0:\n",
    "            loss_avg = loss_total / print_every\n",
    "            loss_total = 0\n",
    "            print('%s (%d %d%%) %.4f' % (timeSince(start, i / n_iters),\n",
    "                                         i, i / n_iters * 100, loss_avg))\n",
    "            \n",
    "    return plot_losses\n",
    "\n",
    "        "
   ]
  },
  {
   "cell_type": "markdown",
   "metadata": {},
   "source": [
    "# Train network"
   ]
  },
  {
   "cell_type": "code",
   "execution_count": 93,
   "metadata": {},
   "outputs": [],
   "source": [
    "net = RNN(290, 200)\n",
    "criterion = nn.MSELoss()\n",
    "optimizer = optim.Adam(net.parameters(), lr=0.001, weight_decay=0.005)"
   ]
  },
  {
   "cell_type": "code",
   "execution_count": 94,
   "metadata": {},
   "outputs": [
    {
     "name": "stdout",
     "output_type": "stream",
     "text": [
      "0m 12s (- 3m 57s) (1000 5%) 1.4962\n",
      "0m 25s (- 3m 51s) (2000 10%) 1.3357\n",
      "0m 40s (- 3m 48s) (3000 15%) 1.2412\n",
      "0m 55s (- 3m 43s) (4000 20%) 1.1558\n",
      "1m 8s (- 3m 25s) (5000 25%) 1.1067\n",
      "1m 21s (- 3m 10s) (6000 30%) 1.1892\n",
      "1m 36s (- 2m 59s) (7000 35%) 1.1451\n",
      "1m 48s (- 2m 43s) (8000 40%) 1.1269\n",
      "2m 1s (- 2m 28s) (9000 45%) 1.0645\n",
      "2m 13s (- 2m 13s) (10000 50%) 1.0558\n",
      "2m 25s (- 1m 59s) (11000 55%) 1.0756\n",
      "2m 37s (- 1m 45s) (12000 60%) 1.0259\n",
      "2m 52s (- 1m 32s) (13000 65%) 0.9766\n",
      "3m 5s (- 1m 19s) (14000 70%) 1.0305\n",
      "3m 17s (- 1m 5s) (15000 75%) 0.9920\n",
      "3m 29s (- 0m 52s) (16000 80%) 0.9935\n",
      "3m 41s (- 0m 39s) (17000 85%) 0.9637\n",
      "3m 53s (- 0m 25s) (18000 90%) 0.9772\n",
      "4m 5s (- 0m 12s) (19000 95%) 1.0103\n",
      "4m 17s (- 0m 0s) (20000 100%) 0.9704\n"
     ]
    }
   ],
   "source": [
    "loss_curve = train(train_data, net, optimizer, criterion, 20000)"
   ]
  },
  {
   "cell_type": "code",
   "execution_count": 38,
   "metadata": {},
   "outputs": [
    {
     "data": {
      "image/png": "[encoded data removed]",
      "text/plain": [
       "<Figure size 432x288 with 1 Axes>"
      ]
     },
     "metadata": {},
     "output_type": "display_data"
    }
   ],
   "source": [
    "plt.plot(loss_curve)\n",
    "plt.show()"
   ]
  },
  {
   "cell_type": "markdown",
   "metadata": {},
   "source": [
    "# Evaluation"
   ]
  },
  {
   "cell_type": "code",
   "execution_count": 40,
   "metadata": {},
   "outputs": [],
   "source": [
    "test_data = preprocess(\"../Formatted_Data/banana1_dr.p\")"
   ]
  },
  {
   "cell_type": "code",
   "execution_count": 41,
   "metadata": {},
   "outputs": [
    {
     "name": "stdout",
     "output_type": "stream",
     "text": [
      "(50, 290)\n"
     ]
    }
   ],
   "source": [
    "print(test_data[\"feature\"].shape)"
   ]
  },
  {
   "cell_type": "code",
   "execution_count": 90,
   "metadata": {},
   "outputs": [
    {
     "name": "stdout",
     "output_type": "stream",
     "text": [
      "(4, 290)\n"
     ]
    }
   ],
   "source": [
    "sample = []\n",
    "sample.append(test_data[\"feature\"][2])\n",
    "sample.append(test_data[\"feature\"][11])\n",
    "sample.append(test_data[\"feature\"][22])\n",
    "sample.append(test_data[\"feature\"][32])\n",
    "sample = np.vstack(sample)\n",
    "print(sample.shape)"
   ]
  },
  {
   "cell_type": "code",
   "execution_count": 91,
   "metadata": {},
   "outputs": [
    {
     "name": "stdout",
     "output_type": "stream",
     "text": [
      "(4, 1, 290)\n",
      "torch.Size([4, 1, 290])\n"
     ]
    }
   ],
   "source": [
    "sample = sample.reshape((4, 1, 290))\n",
    "print(sample.shape)\n",
    "sample = torch.FloatTensor(sample)\n",
    "print(sample.size())"
   ]
  },
  {
   "cell_type": "code",
   "execution_count": 92,
   "metadata": {},
   "outputs": [
    {
     "name": "stdout",
     "output_type": "stream",
     "text": [
      "tensor([[ 2.0616]])\n"
     ]
    }
   ],
   "source": [
    "with torch.no_grad():\n",
    "    net.eval()\n",
    "    out = net(sample)\n",
    "    print(out)"
   ]
  },
  {
   "cell_type": "code",
   "execution_count": 45,
   "metadata": {},
   "outputs": [
    {
     "name": "stdout",
     "output_type": "stream",
     "text": [
      "[6 6 6 6 6 6 6 6 6 6 5 5 5 5 5 5 5 5 5 5 2 2 2 2 2 2 2 2 2 2 1 1 1 1 1 1 1\n",
      " 1 1 1 0 0 0 0 0 0 0 0 0 0]\n"
     ]
    }
   ],
   "source": [
    "print(test_data[\"label\"])"
   ]
  },
  {
   "cell_type": "code",
   "execution_count": null,
   "metadata": {},
   "outputs": [],
   "source": []
  }
 ],
 "metadata": {
  "kernelspec": {
   "display_name": "Python [conda env:hyperspectral]",
   "language": "python",
   "name": "conda-env-hyperspectral-py"
  },
  "language_info": {
   "codemirror_mode": {
    "name": "ipython",
    "version": 3
   },
   "file_extension": ".py",
   "mimetype": "text/x-python",
   "name": "python",
   "nbconvert_exporter": "python",
   "pygments_lexer": "ipython3",
   "version": "3.6.5"
  }
 },
 "nbformat": 4,
 "nbformat_minor": 2
}
