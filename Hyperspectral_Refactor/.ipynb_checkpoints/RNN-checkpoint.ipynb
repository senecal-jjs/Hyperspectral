{
 "cells": [
  {
   "cell_type": "code",
   "execution_count": 100,
   "metadata": {},
   "outputs": [],
   "source": [
    "import pickle \n",
    "import numpy as np\n",
    "import matplotlib.pyplot as plt\n",
    "import random\n",
    "import time\n",
    "import math\n",
    "\n",
    "import torch\n",
    "import torch.nn as nn\n",
    "from torch import optim\n",
    "import torch.nn.functional as F"
   ]
  },
  {
   "cell_type": "markdown",
   "metadata": {},
   "source": [
    "# Data Preprocessing"
   ]
  },
  {
   "cell_type": "code",
   "execution_count": 2,
   "metadata": {},
   "outputs": [],
   "source": [
    "def preprocess(data_file, calc_features=False, baseline=None):\n",
    "    try:\n",
    "        produce_spectra = pickle.load(open(data_file, \"rb\"), encoding='latin1')\n",
    "    except (OSError, IOError) as e:\n",
    "        print(\"Error loading pickled spectra!\")\n",
    "        produce_spectra = []\n",
    "\n",
    "    reflectances = np.array([item[:-1] for item in produce_spectra])\n",
    "    labels = np.array([int(item[-1]) for item in produce_spectra])\n",
    "    \n",
    "    baseline = baseline\n",
    "\n",
    "    if calc_features:\n",
    "        feature_vectors = []\n",
    "        for curve in reflectances:\n",
    "            div = utils.spectral_info_divergence(baseline, curve)\n",
    "            corr = utils.spectral_correlation(baseline, curve)\n",
    "            dist = utils.euclidean_distance(baseline, curve)\n",
    "            angle = utils.spectral_angle(baseline, curve)\n",
    "            feature_vectors.append([div,corr,dist,angle])\n",
    "\n",
    "        return {'feature': np.vstack(feature_vectors), \"label\": labels}\n",
    "    else:\n",
    "        return {'feature': np.vstack(reflectances), \"label\": labels}"
   ]
  },
  {
   "cell_type": "code",
   "execution_count": 3,
   "metadata": {},
   "outputs": [],
   "source": [
    "data = preprocess(\"Formatted_Data/banana.p\")"
   ]
  },
  {
   "cell_type": "code",
   "execution_count": 7,
   "metadata": {},
   "outputs": [],
   "source": [
    "labels = data[\"label\"]\n",
    "features = data[\"feature\"]"
   ]
  },
  {
   "cell_type": "code",
   "execution_count": 18,
   "metadata": {},
   "outputs": [
    {
     "name": "stdout",
     "output_type": "stream",
     "text": [
      "[2 2 2 2 2 2 2 2 5 5 5 5 5 5 5 5 5 6 6 6]\n"
     ]
    }
   ],
   "source": [
    "print(labels[60:80])"
   ]
  },
  {
   "cell_type": "code",
   "execution_count": 122,
   "metadata": {},
   "outputs": [],
   "source": [
    "def partition(data, labels, features):\n",
    "    data_by_day = {1: [], 2: [], 3: [], 4: [], 5: [], 6: [], 7: []}\n",
    "    for i in range(len(labels)):\n",
    "        if labels[i] < 8:\n",
    "            data_by_day[labels[i]].append((features[i], labels[i]))\n",
    "        \n",
    "    return data_by_day"
   ]
  },
  {
   "cell_type": "code",
   "execution_count": 106,
   "metadata": {},
   "outputs": [],
   "source": [
    "def get_batch(data, seq_length=1, batch_size=25):\n",
    "    if seq_length == 1:\n",
    "        # get data from day\n",
    "        idx = np.random.choice(np.arange(7)+1, size=batch_size)\n",
    "        \n",
    "        # select a random sample from the day\n",
    "        x_train = []\n",
    "        y_train = []\n",
    "        for i in idx:\n",
    "            data_for_day = data[i]\n",
    "            selection = random.choice(data_for_day)\n",
    "            \n",
    "            # append the features\n",
    "            x_train.append(selection[0])\n",
    "            \n",
    "            # append the labels\n",
    "            y_train.append(7 - selection[1]) # want days remaining to 7\n",
    "            \n",
    "        x_train = np.vstack(x_train).reshape(seq_length, batch_size, 290)\n",
    "        y_train = np.array(y_train).reshape(len(y_train), 1)\n",
    "            \n",
    "        return (torch.FloatTensor(x_train), torch.FloatTensor(y_train))\n",
    "    else:\n",
    "        x_train = []\n",
    "        y_train = []\n",
    "        for i in range(batch_size):\n",
    "            sequence = []\n",
    "            label = 0\n",
    "            for j in range(1, seq_length+1):\n",
    "                data_for_day = data[j]\n",
    "                selection = random.choice(data_for_day)\n",
    "                \n",
    "                # append the features\n",
    "                sequence.append(selection[0])\n",
    "                \n",
    "                # update the label (the final value will be saved)\n",
    "                label = 7 - selection[1]\n",
    "                \n",
    "            x_train.append(sequence)\n",
    "            y_train.append(label)\n",
    "        \n",
    "        x_train = np.reshape(x_train, (seq_length, batch_size, 290))\n",
    "        y_train = np.array(y_train).reshape(len(y_train), 1)\n",
    "        return (torch.FloatTensor(x_train), torch.FloatTensor(y_train))\n",
    "                \n",
    "                \n",
    "                \n",
    "                \n",
    "    "
   ]
  },
  {
   "cell_type": "markdown",
   "metadata": {},
   "source": [
    "# Define the network"
   ]
  },
  {
   "cell_type": "code",
   "execution_count": 94,
   "metadata": {},
   "outputs": [],
   "source": [
    "class RNN(nn.Module):\n",
    "    def __init__(self, input_size, hidden_size):\n",
    "        super (RNN, self).__init__()\n",
    "        \n",
    "        self.input_size = input_size\n",
    "        self.hidden_size = hidden_size\n",
    "        self.lstm = nn.LSTM(input_size, hidden_size, bidirectional=False)\n",
    "        self.linear = nn.Linear(hidden_size, 1)\n",
    "        \n",
    "    def forward(self, input, hidden=None):\n",
    "        output = F.relu(input)\n",
    "        output, hidden = self.lstm(output, hidden)\n",
    "        output = self.linear(output[-1, :, :])\n",
    "        return output"
   ]
  },
  {
   "cell_type": "markdown",
   "metadata": {},
   "source": [
    "### test a batch"
   ]
  },
  {
   "cell_type": "code",
   "execution_count": 22,
   "metadata": {},
   "outputs": [],
   "source": [
    "train_data = partition(data)"
   ]
  },
  {
   "cell_type": "code",
   "execution_count": 84,
   "metadata": {},
   "outputs": [],
   "source": [
    "sample = get_batch(train_data, seq_length=6)"
   ]
  },
  {
   "cell_type": "code",
   "execution_count": 85,
   "metadata": {},
   "outputs": [
    {
     "name": "stdout",
     "output_type": "stream",
     "text": [
      "torch.Size([6, 25, 290])\n"
     ]
    }
   ],
   "source": [
    "print(sample[0].shape)"
   ]
  },
  {
   "cell_type": "code",
   "execution_count": 99,
   "metadata": {},
   "outputs": [
    {
     "name": "stdout",
     "output_type": "stream",
     "text": [
      "tensor([ 1.,  1.,  1.,  1.,  1.,  1.,  1.,  1.,  1.,  1.,  1.,  1.,\n",
      "         1.,  1.,  1.,  1.,  1.,  1.,  1.,  1.,  1.,  1.,  1.,  1.,\n",
      "         1.])\n"
     ]
    }
   ],
   "source": [
    "print(sample[1])"
   ]
  },
  {
   "cell_type": "code",
   "execution_count": 95,
   "metadata": {},
   "outputs": [],
   "source": [
    "ex_rnn = RNN(290, 100)"
   ]
  },
  {
   "cell_type": "code",
   "execution_count": 96,
   "metadata": {},
   "outputs": [],
   "source": [
    "output = ex_rnn(sample[0])"
   ]
  },
  {
   "cell_type": "code",
   "execution_count": 97,
   "metadata": {},
   "outputs": [
    {
     "name": "stdout",
     "output_type": "stream",
     "text": [
      "torch.Size([25, 1])\n"
     ]
    }
   ],
   "source": [
    "print(output.size())"
   ]
  },
  {
   "cell_type": "markdown",
   "metadata": {},
   "source": [
    "# Create training func"
   ]
  },
  {
   "cell_type": "code",
   "execution_count": 101,
   "metadata": {},
   "outputs": [],
   "source": [
    "def asMinutes(s):\n",
    "    m = math.floor(s / 60)\n",
    "    s -= m * 60\n",
    "    return '%dm %ds' % (m, s)\n",
    "\n",
    "\n",
    "def timeSince(since, percent):\n",
    "    now = time.time()\n",
    "    s = now - since\n",
    "    es = s / (percent)\n",
    "    rs = es - s\n",
    "    return '%s (- %s)' % (asMinutes(s), asMinutes(rs))"
   ]
  },
  {
   "cell_type": "code",
   "execution_count": 116,
   "metadata": {},
   "outputs": [],
   "source": [
    "def train(data, net, optimizer, criterion, n_iters, print_every=1000):\n",
    "    start = time.time()\n",
    "    plot_losses = []\n",
    "    seq_lengths = np.arange(6) + 1\n",
    "    \n",
    "    loss_total = 0\n",
    "    for i in range(1, n_iters+1):\n",
    "        sample, label = get_batch(data, seq_length=np.random.choice(seq_lengths))\n",
    "        \n",
    "        # zero parameter gradients\n",
    "        optimizer.zero_grad()\n",
    "        \n",
    "        output = net(sample)\n",
    "        loss = criterion(output, label)\n",
    "        loss.backward()\n",
    "        optimizer.step()\n",
    "        loss_total += loss.item()\n",
    "        plot_losses.append(loss.item())\n",
    "        \n",
    "        if i % print_every == 0:\n",
    "            loss_avg = loss_total / print_every\n",
    "            loss_total = 0\n",
    "            print('%s (%d %d%%) %.4f' % (timeSince(start, i / n_iters),\n",
    "                                         i, i / n_iters * 100, loss_avg))\n",
    "            \n",
    "    return plot_losses\n",
    "\n",
    "        "
   ]
  },
  {
   "cell_type": "markdown",
   "metadata": {},
   "source": [
    "# Train network"
   ]
  },
  {
   "cell_type": "code",
   "execution_count": 118,
   "metadata": {},
   "outputs": [],
   "source": [
    "net = RNN(290, 100)\n",
    "criterion = nn.MSELoss()\n",
    "optimizer = optim.Adam(net.parameters(), lr=0.001)"
   ]
  },
  {
   "cell_type": "code",
   "execution_count": 119,
   "metadata": {},
   "outputs": [
    {
     "name": "stdout",
     "output_type": "stream",
     "text": [
      "0m 6s (- 2m 28s) (1000 4%) 0.8588\n",
      "0m 12s (- 2m 18s) (2000 8%) 0.4440\n",
      "0m 17s (- 2m 9s) (3000 12%) 0.3658\n",
      "0m 23s (- 2m 4s) (4000 16%) 0.3426\n",
      "0m 30s (- 2m 3s) (5000 20%) 0.3017\n",
      "0m 36s (- 1m 55s) (6000 24%) 0.3057\n",
      "0m 41s (- 1m 47s) (7000 28%) 0.2592\n",
      "0m 48s (- 1m 42s) (8000 32%) 0.2762\n",
      "0m 53s (- 1m 35s) (9000 36%) 0.2586\n",
      "0m 59s (- 1m 29s) (10000 40%) 0.2610\n",
      "1m 6s (- 1m 24s) (11000 44%) 0.2371\n",
      "1m 12s (- 1m 18s) (12000 48%) 0.1631\n",
      "1m 19s (- 1m 13s) (13000 52%) 0.1646\n",
      "1m 26s (- 1m 7s) (14000 56%) 0.1411\n",
      "1m 32s (- 1m 1s) (15000 60%) 0.1660\n",
      "1m 40s (- 0m 56s) (16000 64%) 0.1798\n",
      "1m 51s (- 0m 52s) (17000 68%) 0.1552\n",
      "1m 57s (- 0m 45s) (18000 72%) 0.1274\n",
      "2m 2s (- 0m 38s) (19000 76%) 0.1432\n",
      "2m 9s (- 0m 32s) (20000 80%) 0.1329\n",
      "2m 16s (- 0m 25s) (21000 84%) 0.1274\n",
      "2m 22s (- 0m 19s) (22000 88%) 0.1267\n",
      "2m 29s (- 0m 12s) (23000 92%) 0.1242\n",
      "2m 35s (- 0m 6s) (24000 96%) 0.1202\n",
      "2m 42s (- 0m 0s) (25000 100%) 0.1252\n"
     ]
    }
   ],
   "source": [
    "loss_curve = train(train_data, net, optimizer, criterion, 25000)"
   ]
  },
  {
   "cell_type": "code",
   "execution_count": 120,
   "metadata": {},
   "outputs": [
    {
     "data": {
      "image/png": "[encoded data removed]",
      "text/plain": [
       "<Figure size 432x288 with 1 Axes>"
      ]
     },
     "metadata": {},
     "output_type": "display_data"
    }
   ],
   "source": [
    "plt.plot(loss_curve)\n",
    "plt.show()"
   ]
  },
  {
   "cell_type": "markdown",
   "metadata": {},
   "source": [
    "# Evaluation"
   ]
  },
  {
   "cell_type": "code",
   "execution_count": 121,
   "metadata": {},
   "outputs": [],
   "source": [
    "test_data = preprocess(\"Formatted_Data/banana1_dr.p\")"
   ]
  },
  {
   "cell_type": "code",
   "execution_count": 146,
   "metadata": {},
   "outputs": [
    {
     "name": "stdout",
     "output_type": "stream",
     "text": [
      "(2, 290)\n"
     ]
    }
   ],
   "source": [
    "sample = []\n",
    "sample.append(test_data[\"feature\"][0])\n",
    "sample.append(test_data[\"feature\"][10])\n",
    "sample = np.vstack(sample)\n",
    "print(sample.shape)"
   ]
  },
  {
   "cell_type": "code",
   "execution_count": 147,
   "metadata": {},
   "outputs": [
    {
     "name": "stdout",
     "output_type": "stream",
     "text": [
      "(2, 1, 290)\n",
      "torch.Size([2, 1, 290])\n"
     ]
    }
   ],
   "source": [
    "sample = sample.reshape((2, 1, 290))\n",
    "print(sample.shape)\n",
    "sample = torch.FloatTensor(sample)\n",
    "print(sample.size())"
   ]
  },
  {
   "cell_type": "code",
   "execution_count": 148,
   "metadata": {},
   "outputs": [
    {
     "name": "stdout",
     "output_type": "stream",
     "text": [
      "tensor([[ 4.9921]])\n"
     ]
    }
   ],
   "source": [
    "out = net(sample)\n",
    "print(out)"
   ]
  },
  {
   "cell_type": "code",
   "execution_count": 144,
   "metadata": {},
   "outputs": [
    {
     "name": "stdout",
     "output_type": "stream",
     "text": [
      "[6 6 6 6 6 6 6 6 6 6 5 5 5 5 5 5 5 5 5 5 2 2 2 2 2 2 2 2 2 2 1 1 1 1 1 1 1\n",
      " 1 1 1 0 0 0 0 0 0 0 0 0 0]\n"
     ]
    }
   ],
   "source": [
    "print(test_data[\"label\"])"
   ]
  },
  {
   "cell_type": "code",
   "execution_count": null,
   "metadata": {},
   "outputs": [],
   "source": []
  }
 ],
 "metadata": {
  "kernelspec": {
   "display_name": "Python [conda env:hyperspectral]",
   "language": "python",
   "name": "conda-env-hyperspectral-py"
  },
  "language_info": {
   "codemirror_mode": {
    "name": "ipython",
    "version": 3
   },
   "file_extension": ".py",
   "mimetype": "text/x-python",
   "name": "python",
   "nbconvert_exporter": "python",
   "pygments_lexer": "ipython3",
   "version": "3.6.5"
  }
 },
 "nbformat": 4,
 "nbformat_minor": 2
}
